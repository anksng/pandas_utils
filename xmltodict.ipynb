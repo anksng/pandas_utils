{
 "cells": [
  {
   "cell_type": "code",
   "execution_count": null,
   "metadata": {},
   "outputs": [],
   "source": [
    "import os\n",
    "import xmltodict\n",
    "import pandas as pd\n",
    "import glob\n",
    "import numpy as np"
   ]
  },
  {
   "cell_type": "code",
   "execution_count": null,
   "metadata": {},
   "outputs": [],
   "source": [
    "def load_xml_dict(path):\n",
    "        \"\"\"\n",
    "        Returns xml as a dict\n",
    "        :param path to xml file\n",
    "        :return dict object\n",
    "        \"\"\"\n",
    "        xml = open(path, encoding=\"utf-8\",  mode=\"r\") \n",
    "        dict_obj = xmltodict.parse(xml.read(),process_namespaces=True,dict_constructor=dict)\n",
    "        return dict_obj\n",
    "    "
   ]
  },
  {
   "cell_type": "markdown",
   "metadata": {},
   "source": [
    "# loading all XMLS"
   ]
  },
  {
   "cell_type": "code",
   "execution_count": null,
   "metadata": {},
   "outputs": [],
   "source": [
    "song_paths = glob.glob('/Users/ankit.singh/e2e/kva_exploratory/Scientist_Testdata/XML-Projects/*')"
   ]
  },
  {
   "cell_type": "markdown",
   "metadata": {},
   "source": [
    "# CSV paths: \n"
   ]
  },
  {
   "cell_type": "code",
   "execution_count": null,
   "metadata": {},
   "outputs": [],
   "source": [
    "csvs = glob.glob('/Users/ankit.singh/e2e/kva_exploratory/Scientist_Testdata/Mix-Packs/*/*/*')"
   ]
  },
  {
   "cell_type": "code",
   "execution_count": null,
   "metadata": {},
   "outputs": [],
   "source": [
    "csvs"
   ]
  },
  {
   "cell_type": "markdown",
   "metadata": {},
   "source": [
    "# Extracting data from xmls : \n",
    "Loading all the data in dataframe is one way to do this. But this is not feasible computationally. \n",
    "Hence, I will write a method to handle the xml and extract all possible fields when needed dynamically, thereby avoiding loading all the files in the memory at once.\n"
   ]
  },
  {
   "cell_type": "markdown",
   "metadata": {},
   "source": [
    "# Task 1. Parse the XML files and extract information"
   ]
  },
  {
   "cell_type": "code",
   "execution_count": null,
   "metadata": {},
   "outputs": [],
   "source": [
    "data = load_xml_dict(song_paths[0])"
   ]
  },
  {
   "cell_type": "code",
   "execution_count": null,
   "metadata": {},
   "outputs": [],
   "source": [
    "data['project'].keys()"
   ]
  },
  {
   "cell_type": "code",
   "execution_count": null,
   "metadata": {},
   "outputs": [],
   "source": [
    "class extract():\n",
    "    def __init__(self, path):\n",
    "        self.path = path\n",
    "        self.dict_xml = self.load_xml_dict() \n",
    "        self.filename = self.path.split('/')[-1].split('.')[0]\n",
    "#         self.dict_obj = self.load_xml_dict()\n",
    "        \n",
    "    def load_xml_dict(self):\n",
    "        \"\"\"\n",
    "        Returns xml as a dict\n",
    "        :param path to xml file\n",
    "        :return dict object\n",
    "        \"\"\"\n",
    "        xml = open(self.path, encoding=\"utf-8\",  mode=\"r\") \n",
    "        dict_obj = xmltodict.parse(xml.read(),process_namespaces=True,dict_constructor=dict)\n",
    "        return dict_obj\n",
    "    \n",
    "    def get_basic_features(self):\n",
    "        \n",
    "        \"\"\"Returns features one song - volume, bpm, cut_mode, used_chords and user_loops\"\"\"\n",
    "        \n",
    "        dict = {'vol': self.dict_xml['project']['@volume'],\n",
    "                'bpm': self.dict_xml['project']['@bpm'],\n",
    "                'cut_mode': self.dict_xml['project']['@cut_mode'],\n",
    "                'used_chords':self.dict_xml['project']['used_chords'],\n",
    "                'user_loops':self.dict_xml['project']['user_loops']}\n",
    "        return dict\n",
    "    \n",
    "    def all_parts(self):\n",
    "        \"\"\" Internal function\"\"\"\n",
    "        return pd.DataFrame(dict_xml['project']['parts']['part'])\n",
    "    \n",
    "    \n",
    "    def chord_sequence(self):\n",
    "        \"\"\"returns chord sequence of one song. use this for analysis of type of music!!\"\"\"\n",
    "        df = self.all_parts()\n",
    "        return df.chord_sequence\n",
    "        \n",
    "    def part_name(self):\n",
    "        \"\"\"REturns part name of all the parts (25) from the xml root\"\"\"\n",
    "        df = self.all_parts()\n",
    "        return df['@name']\n",
    "    \n",
    "    def length_in_beats(self):\n",
    "        \"\"\"Returns the length_in_beats for a song - Could be used in analysis\"\"\"\n",
    "        df = self.all_parts()\n",
    "        return df['@length_in_beats']\n",
    "    \n",
    "    def pitch_sequence(self):\n",
    "        \"\"\"Returns the pitch sequence for a song - Could be used in analysis\"\"\"\n",
    "        df = self.all_parts()\n",
    "        return df['@pitch']\n",
    "    \n",
    "    def return_full_song_sequence(self):\n",
    "        \"\"\"Returns the complete sequence of the song. So no need to deal with looping in xml anymore.\n",
    "        Simply call any song and get the full sequence- total length -200\"\"\"\n",
    "        loops = []    # length should be equal to 25*8 - 25 parts per song and 8 channels per part\n",
    "        volume = []\n",
    "        is_active = []\n",
    "\n",
    "        for i in range(len(df)):\n",
    "            for j in range(len(pd.DataFrame(df.channels[i]['channel'])['@volume'])):\n",
    "                loops.append(pd.DataFrame(df.channels[i]['channel'])['@loop'][j])\n",
    "                volume.append(pd.DataFrame(df.channels[i]['channel'])['@volume'][j])\n",
    "                is_active.append(pd.DataFrame(df.channels[i]['channel'])['@is_active'][j])\n",
    "\n",
    "        assert len(loops)==len(volume)==len(is_active)\n",
    "        dff = pd.DataFrame({'loops':loops,'volume':volume,'is_active':is_active})\n",
    "        return dff\n",
    "\n",
    "    def clean_loops(self):\n",
    "        loops_clean = []\n",
    "        d = self.return_full_song_sequence()\n",
    "        for i in range(len(d)):\n",
    "            loops_clean.append('/'.join(d.loops[i].split('/')[4:]))\n",
    "        return loops_clean\n",
    "    \n",
    "    \n",
    "    def get_song_data(self, csvs): \n",
    "        \"\"\"Returns the song data from csv files for one song\"\"\"\n",
    "        d = self.clean_loops()\n",
    "        path_str = '/Users/ankit.singh/e2e/kva_exploratory/Scientist_Testdata/Mix-Packs/'\n",
    "        data = []\n",
    "        for i in d:\n",
    "            s = path_str + i + '.csv'   # Very baddd way!! but since small dataset we can let it be :p\n",
    "            if s in csvs:  \n",
    "#                 print(np.array(pd.read_csv(s))[0][:2])\n",
    "\n",
    "                data.append(np.array(pd.read_csv(s))[0][2:])\n",
    "            else : \n",
    "                s = path_str + i + ' 1' + '.csv'\n",
    "                if s in csvs :\n",
    "                    data.append(np.array(pd.read_csv(s))[0][2:])\n",
    "                else :\n",
    "                    s = path_str + i + '  1' + '.csv'\n",
    "                    data.append(np.array(pd.read_csv(s))[0][2:])\n",
    "    \n",
    "        return pd.DataFrame(data, columns = ['label','d1','d2','d3','d4','d5','d6','d7','d8'])\n",
    "    \n"
   ]
  },
  {
   "cell_type": "code",
   "execution_count": null,
   "metadata": {},
   "outputs": [],
   "source": [
    "extractor = extract(song_paths[0])"
   ]
  },
  {
   "cell_type": "code",
   "execution_count": null,
   "metadata": {},
   "outputs": [],
   "source": [
    "extractor.get_basic_features()"
   ]
  },
  {
   "cell_type": "code",
   "execution_count": null,
   "metadata": {},
   "outputs": [],
   "source": [
    "extractor.return_full_song_sequence()"
   ]
  },
  {
   "cell_type": "code",
   "execution_count": null,
   "metadata": {},
   "outputs": [],
   "source": [
    "extractor.pitch_sequence()"
   ]
  },
  {
   "cell_type": "code",
   "execution_count": null,
   "metadata": {},
   "outputs": [],
   "source": [
    "extractor.length_in_beats()"
   ]
  },
  {
   "cell_type": "code",
   "execution_count": null,
   "metadata": {},
   "outputs": [],
   "source": [
    "extractor.part_name()"
   ]
  },
  {
   "cell_type": "code",
   "execution_count": null,
   "metadata": {},
   "outputs": [],
   "source": [
    "extractor.chord_sequence()"
   ]
  },
  {
   "cell_type": "markdown",
   "metadata": {},
   "source": [
    "# Removing the  “mmj://styles/id/” from all the loops "
   ]
  },
  {
   "cell_type": "code",
   "execution_count": null,
   "metadata": {},
   "outputs": [],
   "source": [
    "extractor = extract(song_paths[1])\n",
    "\n",
    "d = extractor.clean_loops()\n",
    "d"
   ]
  },
  {
   "cell_type": "code",
   "execution_count": null,
   "metadata": {},
   "outputs": [],
   "source": [
    "csvs"
   ]
  },
  {
   "cell_type": "markdown",
   "metadata": {},
   "source": [
    "# Task 2.  Use the data in the CSV files to replace the loop filename with the corresponding features (label + d1-d8)"
   ]
  },
  {
   "cell_type": "code",
   "execution_count": null,
   "metadata": {},
   "outputs": [],
   "source": [
    "# basically just read the filename from each loop, open the csv and get the label + d1-d8 featured. \n",
    "# Lets just add a function to retrieve this for each song file directly\n"
   ]
  },
  {
   "cell_type": "code",
   "execution_count": null,
   "metadata": {},
   "outputs": [],
   "source": [
    "extractor = extract(song_paths[1])\n",
    "d = extractor.clean_loops()"
   ]
  },
  {
   "cell_type": "code",
   "execution_count": null,
   "metadata": {},
   "outputs": [],
   "source": []
  },
  {
   "cell_type": "code",
   "execution_count": null,
   "metadata": {},
   "outputs": [],
   "source": [
    "path_str = '/Users/ankit.singh/e2e/kva_exploratory/Scientist_Testdata/Mix-Packs/'\n",
    "# s = path_str + d[1] + 'ss 1' + '.csv'   # this way generate in your computer!!\n",
    "s = path_str + d[0]  + '.csv'   # this way generate in your computer!!"
   ]
  },
  {
   "cell_type": "code",
   "execution_count": null,
   "metadata": {},
   "outputs": [],
   "source": [
    "np.array(pd.read_csv(s))[0][2:]"
   ]
  },
  {
   "cell_type": "markdown",
   "metadata": {},
   "source": [
    "### if True - loop name is found, if false not found. In the task they have asked to add a whitespace if you dont find a match"
   ]
  },
  {
   "cell_type": "code",
   "execution_count": null,
   "metadata": {},
   "outputs": [],
   "source": [
    "s in csvs\n"
   ]
  },
  {
   "cell_type": "code",
   "execution_count": null,
   "metadata": {},
   "outputs": [],
   "source": [
    "# if false, just add a space  as mentioned the task description  :\n",
    "s = path_str + d[1] + ' 1' + '.csv'   # this way generate in your computer!!\n",
    "s in csvs\n",
    "# if stilll false then add two spaces!"
   ]
  },
  {
   "cell_type": "code",
   "execution_count": null,
   "metadata": {},
   "outputs": [],
   "source": [
    "# final function to get the data with label from csv can now be written!!!!  # change the path string as per your computer"
   ]
  },
  {
   "cell_type": "code",
   "execution_count": null,
   "metadata": {},
   "outputs": [],
   "source": [
    "def get_song_data(self, csvs): \n",
    "    d = self.clean_loops()\n",
    "    path_str = '/Users/ankit.singh/e2e/kva_exploratory/Scientist_Testdata/Mix-Packs/'\n",
    "    data = []\n",
    "    for i in d[0]:\n",
    "        s = path_str + i + '.csv'   # Very baddd way!! but since small dataset we can let it be :p\n",
    "        if s in csvs:   \n",
    "            print(np.array(pd.read_csv(s)))\n",
    "            data.append(np.array(pd.read_csv(s))[0][2:])\n",
    "        else : \n",
    "            s = path_str + i + ' 1' + '.csv'\n",
    "            if s in csvs :\n",
    "                data.append(np.array(pd.read_csv(s))[0][:2])\n",
    "            else :\n",
    "                s = path_str + i + '  1' + '.csv'\n",
    "                data.append(np.array(pd.read_csv(s))[0][:2])\n",
    "        \n",
    "    return pd.DataFrame(data)"
   ]
  },
  {
   "cell_type": "code",
   "execution_count": null,
   "metadata": {},
   "outputs": [],
   "source": [
    "extractor.get_song_data(csvs)   # for one song"
   ]
  },
  {
   "cell_type": "code",
   "execution_count": null,
   "metadata": {},
   "outputs": [],
   "source": [
    "# do for all songs and any analysis you want!!"
   ]
  },
  {
   "cell_type": "code",
   "execution_count": null,
   "metadata": {},
   "outputs": [],
   "source": []
  }
 ],
 "metadata": {
  "kernelspec": {
   "display_name": "Python 3",
   "language": "python",
   "name": "python3"
  },
  "language_info": {
   "codemirror_mode": {
    "name": "ipython",
    "version": 3
   },
   "file_extension": ".py",
   "mimetype": "text/x-python",
   "name": "python",
   "nbconvert_exporter": "python",
   "pygments_lexer": "ipython3",
   "version": "3.7.6"
  }
 },
 "nbformat": 4,
 "nbformat_minor": 4
}
