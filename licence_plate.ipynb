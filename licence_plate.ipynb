{
 "cells": [
  {
   "cell_type": "code",
   "execution_count": 5,
   "metadata": {},
   "outputs": [],
   "source": [
    "import numpy as np"
   ]
  },
  {
   "cell_type": "code",
   "execution_count": 11,
   "metadata": {},
   "outputs": [
    {
     "ename": "ValueError",
     "evalue": "matmul: Input operand 1 has a mismatch in its core dimension 0, with gufunc signature (n?,k),(k,m?)->(n?,m?) (size 2 is different from 3)",
     "output_type": "error",
     "traceback": [
      "\u001b[0;31m---------------------------------------------------------------------------\u001b[0m",
      "\u001b[0;31mValueError\u001b[0m                                Traceback (most recent call last)",
      "\u001b[0;32m<ipython-input-11-51d6ea47464f>\u001b[0m in \u001b[0;36m<module>\u001b[0;34m\u001b[0m\n\u001b[1;32m      1\u001b[0m \u001b[0ma\u001b[0m\u001b[0;34m=\u001b[0m \u001b[0;34m[\u001b[0m\u001b[0;34m[\u001b[0m\u001b[0;36m0\u001b[0m\u001b[0;34m,\u001b[0m\u001b[0;36m1\u001b[0m\u001b[0;34m,\u001b[0m\u001b[0;36m2\u001b[0m\u001b[0;34m]\u001b[0m\u001b[0;34m,\u001b[0m\u001b[0;34m[\u001b[0m\u001b[0;36m0\u001b[0m\u001b[0;34m,\u001b[0m\u001b[0;36m1\u001b[0m\u001b[0;34m,\u001b[0m\u001b[0;36m2\u001b[0m\u001b[0;34m]\u001b[0m\u001b[0;34m,\u001b[0m\u001b[0;34m[\u001b[0m\u001b[0;36m0\u001b[0m\u001b[0;34m,\u001b[0m\u001b[0;36m1\u001b[0m\u001b[0;34m,\u001b[0m\u001b[0;36m2\u001b[0m\u001b[0;34m]\u001b[0m\u001b[0;34m]\u001b[0m\u001b[0;34m\u001b[0m\u001b[0;34m\u001b[0m\u001b[0m\n\u001b[1;32m      2\u001b[0m \u001b[0mb\u001b[0m \u001b[0;34m=\u001b[0m \u001b[0;34m[\u001b[0m\u001b[0;34m[\u001b[0m\u001b[0;36m0\u001b[0m\u001b[0;34m,\u001b[0m\u001b[0;36m1\u001b[0m\u001b[0;34m,\u001b[0m\u001b[0;36m1\u001b[0m\u001b[0;34m]\u001b[0m\u001b[0;34m,\u001b[0m\u001b[0;34m[\u001b[0m\u001b[0;36m0\u001b[0m\u001b[0;34m,\u001b[0m\u001b[0;36m1\u001b[0m\u001b[0;34m,\u001b[0m\u001b[0;36m1\u001b[0m\u001b[0;34m]\u001b[0m\u001b[0;34m]\u001b[0m\u001b[0;34m\u001b[0m\u001b[0;34m\u001b[0m\u001b[0m\n\u001b[0;32m----> 3\u001b[0;31m \u001b[0mnp\u001b[0m\u001b[0;34m.\u001b[0m\u001b[0mmatmul\u001b[0m\u001b[0;34m(\u001b[0m\u001b[0ma\u001b[0m\u001b[0;34m,\u001b[0m\u001b[0mb\u001b[0m\u001b[0;34m)\u001b[0m\u001b[0;34m.\u001b[0m\u001b[0mshape\u001b[0m\u001b[0;34m\u001b[0m\u001b[0;34m\u001b[0m\u001b[0m\n\u001b[0m",
      "\u001b[0;31mValueError\u001b[0m: matmul: Input operand 1 has a mismatch in its core dimension 0, with gufunc signature (n?,k),(k,m?)->(n?,m?) (size 2 is different from 3)"
     ]
    }
   ],
   "source": [
    "a= [[0,1,2],[0,1,2],[0,1,2]]\n",
    "b = [[0,1,1],[0,1,1]]\n",
    "np.matmul(a,b).shape"
   ]
  },
  {
   "cell_type": "code",
   "execution_count": 20,
   "metadata": {},
   "outputs": [],
   "source": [
    "def check(a,b):\n",
    "    \"\"\"Checks if matrix multiplication is possible\n",
    "    Idea - We can use this to except error when kernel size given by the user will not be compatible\n",
    "    \"\"\"\n",
    "    try:\n",
    "        np.matmul(a,b)\n",
    "    except ValueError as e:\n",
    "        print(\"ERROR->\",e)"
   ]
  },
  {
   "cell_type": "code",
   "execution_count": 26,
   "metadata": {},
   "outputs": [],
   "source": [
    "def matmul(a,b):\n",
    "    \"\"\"\n",
    "    Returns the matrix multiplication of inputs a and b. \n",
    "    Idea - I will use this for each conv step-  kernel*slice_from_matrix \n",
    "    \"\"\"    \n",
    "    return np.matmul(a,b)\n"
   ]
  },
  {
   "cell_type": "code",
   "execution_count": 28,
   "metadata": {},
   "outputs": [],
   "source": [
    "# performng a sample convolution with input size - (4,4) and kernel of size - (2,2).\n",
    "# Hence, the output will be a (2*2) matrix. From this then we can somehow figure out how to\n",
    "# arrange the result of each convolution into a (2*2) output matrix using numpy functions or pure slicing. Lets see!"
   ]
  },
  {
   "cell_type": "code",
   "execution_count": 127,
   "metadata": {},
   "outputs": [],
   "source": [
    "inp_mat = [[1., 2., 3., 4.,5],\n",
    "       [5., 6., 7., 8.,6], \n",
    "       [9., 10., 11., 12.,7],\n",
    "       [13., 14., 15., 16.,8]]     # i will number then so that when we select we can see positions correctly\n",
    "                                 # Basicially here I am trying to figure out how to slice numpy array dynamically!\n",
    "kernel = np.ones((2,2))\n",
    "\n",
    "# I leave all operations I am doing as it is."
   ]
  },
  {
   "cell_type": "code",
   "execution_count": 128,
   "metadata": {},
   "outputs": [],
   "source": [
    "# first I want to select [1,2,],[5,6] from inp_mat. Since this will be our first convolution matmul.\n",
    "\n",
    "# first_step_of_convolution \n"
   ]
  },
  {
   "cell_type": "code",
   "execution_count": 129,
   "metadata": {},
   "outputs": [
    {
     "ename": "TypeError",
     "evalue": "list indices must be integers or slices, not tuple",
     "output_type": "error",
     "traceback": [
      "\u001b[0;31m---------------------------------------------------------------------------\u001b[0m",
      "\u001b[0;31mTypeError\u001b[0m                                 Traceback (most recent call last)",
      "\u001b[0;32m<ipython-input-129-8e15828251ef>\u001b[0m in \u001b[0;36m<module>\u001b[0;34m\u001b[0m\n\u001b[0;32m----> 1\u001b[0;31m \u001b[0minp_mat\u001b[0m\u001b[0;34m[\u001b[0m\u001b[0;34m:\u001b[0m\u001b[0;36m2\u001b[0m\u001b[0;34m,\u001b[0m\u001b[0;34m:\u001b[0m\u001b[0;36m2\u001b[0m\u001b[0;34m]\u001b[0m   \u001b[0;31m# turns out this way, numpy is not allowing (was just a random try!), Moving On\u001b[0m\u001b[0;34m\u001b[0m\u001b[0;34m\u001b[0m\u001b[0m\n\u001b[0m",
      "\u001b[0;31mTypeError\u001b[0m: list indices must be integers or slices, not tuple"
     ]
    }
   ],
   "source": [
    "inp_mat[:2,:2]   # turns out this way, numpy is not allowing (was just a random try!), Moving On"
   ]
  },
  {
   "cell_type": "code",
   "execution_count": 51,
   "metadata": {},
   "outputs": [
    {
     "data": {
      "text/plain": [
       "[[1.0, 2.0, 3.0, 4.0], [5.0, 6.0, 7.0, 8.0]]"
      ]
     },
     "execution_count": 51,
     "metadata": {},
     "output_type": "execute_result"
    }
   ],
   "source": [
    "inp_mat[:2]  \n",
    "# this looks promising, as slicing :2 retruns a row. \n",
    "# We just want the first two from each row (for kernal width =2, whci is our current case)"
   ]
  },
  {
   "cell_type": "code",
   "execution_count": 118,
   "metadata": {},
   "outputs": [
    {
     "data": {
      "text/plain": [
       "[[5.0, 6.0], [9.0, 10.0]]"
      ]
     },
     "execution_count": 118,
     "metadata": {},
     "output_type": "execute_result"
    }
   ],
   "source": [
    "slice1 = inp_mat[1:3]   # selecting from this slice of two rows\n",
    "conv1 =  [i[0:2] for i in slice1]  # selecting first two elements from each row   -- kernel width controller\n",
    "# lets say kernel width was 3 (e.g. kernel if size (2,3)), we can just change this number here. \n",
    "# Hence this will be our kernel width controller\n",
    "\n",
    "conv1      # got the desired slice! Next step- How to make this dynamic?"
   ]
  },
  {
   "cell_type": "code",
   "execution_count": 62,
   "metadata": {},
   "outputs": [
    {
     "data": {
      "text/plain": [
       "array([[ 3.,  3.],\n",
       "       [11., 11.]])"
      ]
     },
     "execution_count": 62,
     "metadata": {},
     "output_type": "execute_result"
    }
   ],
   "source": [
    "conv_operation = matmul(conv1,kernel)\n",
    "conv_operation   # first conv step output. \n",
    "#The steps so far have to be dynamic, hence it can be automatically performed"
   ]
  },
  {
   "cell_type": "code",
   "execution_count": 119,
   "metadata": {},
   "outputs": [
    {
     "data": {
      "text/plain": [
       "[[5.0, 6.0, 7.0, 8.0], [9.0, 10.0, 11.0, 12.0]]"
      ]
     },
     "execution_count": 119,
     "metadata": {},
     "output_type": "execute_result"
    }
   ],
   "source": [
    "# now lets move the second conv operation, this means we will now figure out which placeholder to use for STRIDE\n",
    "slice1 = inp_mat[1:3]\n",
    "slice1   # this time we want [[2,3],[6,7]], From the slice, (remember right now we are in kernel height 2)\n",
    "#  Next step will give us the answer to how to select HORIZONTAL STRIDE"
   ]
  },
  {
   "cell_type": "code",
   "execution_count": 121,
   "metadata": {},
   "outputs": [
    {
     "data": {
      "text/plain": [
       "[[5.0, 6.0], [9.0, 10.0]]"
      ]
     },
     "execution_count": 121,
     "metadata": {},
     "output_type": "execute_result"
    }
   ],
   "source": [
    "# lets try again list comprehension\n",
    "conv2 = [i[0:2] for i in slice1]   # so adjusting the slice indices in this step gives us a solution to HORIZONTAL STRIDE\n",
    "conv2 # desired result, !!note the pattern - [0:2], then [1:3] for stride ==1!!"
   ]
  },
  {
   "cell_type": "code",
   "execution_count": 58,
   "metadata": {},
   "outputs": [
    {
     "data": {
      "text/plain": [
       "[[2.0, 3.0], [6.0, 7.0]]"
      ]
     },
     "execution_count": 58,
     "metadata": {},
     "output_type": "execute_result"
    }
   ],
   "source": [
    "# Now we can make the horizontal steps of convolution dynamic- >\n",
    "def conv_horizontal_one_full_row(inp_mat, kernel, stride=1):\n",
    "    # since we need kernel width for this operation we will first select that.\n",
    "    w = kernel.shape[1]\n",
    "    start = 0\n",
    "    end = w \n",
    "    conv = []\n",
    "    for i in range(horizontal_steps): # to get the range we can use the expected output shape of the result.\n"
   ]
  },
  {
   "cell_type": "code",
   "execution_count": 74,
   "metadata": {},
   "outputs": [],
   "source": [
    "# after drqaing the conv operation on paper,\n",
    "# i understood a pattern in number of horizontal steps allowed based on kernel width and input mat size\n",
    "# the formula can be easily written as -\n",
    "\n",
    "def get_horizontal(inp_mat,kernel):\n",
    "    a = len(inp_mat[0])   # width of the input matrix\n",
    "    b = kernel.shape[1]\n",
    "    horizontal_steps = (a-b)+1  # turns out adding 1 gives the right number!Eureka :D\n",
    "    return horizontal_steps\n",
    "\n",
    "# similarly we can do for vertical by taking the first dimension of the shapes:\n",
    "def get_vertical(inp_mat,kernel):\n",
    "    a = len(inp_mat)\n",
    "    b = kernel.shape[0]\n",
    "    vertical_steps = (a-b)+1\n",
    "    return vertical_steps\n",
    "\n",
    "# do some checks with diff inp mat size and kernel sizes. \n",
    "# Also, you can think of raising an error when the  kernel_width > inp_mat_width or kernel_height > inp_mat_height\n",
    "# just add a try and except!"
   ]
  },
  {
   "cell_type": "code",
   "execution_count": 75,
   "metadata": {},
   "outputs": [
    {
     "data": {
      "text/plain": [
       "3"
      ]
     },
     "execution_count": 75,
     "metadata": {},
     "output_type": "execute_result"
    }
   ],
   "source": [
    "horizontal_steps"
   ]
  },
  {
   "cell_type": "code",
   "execution_count": 79,
   "metadata": {},
   "outputs": [],
   "source": [
    "# continuing with this\n",
    "def conv_horizontal_one_full_row(inp_mat, kernel, stride=1):\n",
    "    # since we need kernel width for this operation we will first select that.\n",
    "    w = kernel.shape[1]\n",
    "    start = 0\n",
    "    end = w \n",
    "    conv = []\n",
    "    horizontal_steps = get_horizontal(inp_mat,kernel)\n",
    "    for i in range(horizontal_steps): # to get the range we can use the expected output shape of the result.\n",
    "        \n",
    "        conv.append(matmul([i[start:end] for i in slice1],kernel))\n",
    "        #increment start and end by stride size: for now it has to be 1, \n",
    "        start +=stride\n",
    "        end+=stride\n",
    "        # if stride needs to be added we have to just chaneg the calculation of horizontal and vertical steps!\n",
    "        # maybe try this as an exercise\n",
    "    return conv\n",
    "        \n",
    "        "
   ]
  },
  {
   "cell_type": "code",
   "execution_count": 82,
   "metadata": {},
   "outputs": [
    {
     "data": {
      "text/plain": [
       "[array([[ 3.,  3.],\n",
       "        [11., 11.]]), array([[ 5.,  5.],\n",
       "        [13., 13.]]), array([[ 7.,  7.],\n",
       "        [15., 15.]])]"
      ]
     },
     "execution_count": 82,
     "metadata": {},
     "output_type": "execute_result"
    }
   ],
   "source": [
    "conv_horizontal_one_full_row(inp_mat,kernel)"
   ]
  },
  {
   "cell_type": "code",
   "execution_count": 84,
   "metadata": {},
   "outputs": [],
   "source": [
    "# now we got the output from the first horizontal operation. Now the kernel will move down one step and \n",
    "# do the same operation\n",
    "# lets see how to achieve this\n",
    "# basically, all we need to change is the slicing from the inp_mat"
   ]
  },
  {
   "cell_type": "code",
   "execution_count": 124,
   "metadata": {},
   "outputs": [],
   "source": [
    "def conv_operation(inp_mat, kernel, stride=1):\n",
    "    # since we need kernel width for this operation we will first select that.\n",
    "    w = kernel.shape[1]\n",
    "    h = kernel.shape[0]\n",
    "    start = 0  # for horizontal opers\n",
    "    end = w    \n",
    "    slice_start = 0  # for vertical opers\n",
    "    slice_end = h\n",
    "#     print(slice_end)\n",
    "    conv = []\n",
    "    horizontal_steps = get_horizontal(inp_mat,kernel)\n",
    "    vertical_steps = get_vertical(inp_mat,kernel) \n",
    "    for j in range(vertical_steps):\n",
    "#         print(j)\n",
    "        \n",
    "        print(slice_start,slice_end)\n",
    "        slice_ =  inp_mat[slice_start:slice_end]   # here if we change the 2, we are changing vertical slices (row-wise)\n",
    "        for i in range(horizontal_steps): # to get the range we can use the expected output shape of the result.\n",
    "            mat = np.array([k[start:end] for k in slice_])\n",
    "#             print(mat.shape)\n",
    "            conv.append(matmul(mat,kernel))\n",
    "            #increment start and end by stride size: for now it has to be 1, \n",
    "            start +=stride\n",
    "            end+=stride\n",
    "#             print(i)\n",
    "        # THE BELOW 4 lines come by debugging and printing errors and understanding all the shapes\n",
    "        start = 0  # for horizontal opers\n",
    "        end = w \n",
    "        slice_start += stride\n",
    "        slice_end += stride\n",
    "        \n",
    "        # if stride needs to be added we have to just chaneg the calculation of horizontal and vertical steps!\n",
    "        # maybe try this as an exercise\n",
    "    return conv"
   ]
  },
  {
   "cell_type": "code",
   "execution_count": 125,
   "metadata": {},
   "outputs": [
    {
     "name": "stdout",
     "output_type": "stream",
     "text": [
      "0 2\n",
      "1 3\n",
      "2 4\n"
     ]
    },
    {
     "data": {
      "text/plain": [
       "[array([[ 3.,  3.],\n",
       "        [11., 11.]]), array([[ 5.,  5.],\n",
       "        [13., 13.]]), array([[ 7.,  7.],\n",
       "        [15., 15.]]), array([[11., 11.],\n",
       "        [19., 19.]]), array([[13., 13.],\n",
       "        [21., 21.]]), array([[15., 15.],\n",
       "        [23., 23.]]), array([[19., 19.],\n",
       "        [27., 27.]]), array([[21., 21.],\n",
       "        [29., 29.]]), array([[23., 23.],\n",
       "        [31., 31.]])]"
      ]
     },
     "execution_count": 125,
     "metadata": {},
     "output_type": "execute_result"
    }
   ],
   "source": [
    "conv_operation(inp_mat,kernel)"
   ]
  },
  {
   "cell_type": "code",
   "execution_count": null,
   "metadata": {},
   "outputs": [],
   "source": [
    "# note that conv is a list of all operations performed sequentially. The next step must be- rearraging this list\n",
    "# into a correct np.ndarray. Which is fairly easy!.\n",
    "# CONV OPERATION DONE. LEt me allso add the vertical stride option -> look at the changes"
   ]
  },
  {
   "cell_type": "code",
   "execution_count": 132,
   "metadata": {},
   "outputs": [],
   "source": [
    "def conv_operation(inp_mat, kernel, horizontal_stride=1,vertical_stride=1):\n",
    "    # since we need kernel width for this operation we will first select that.\n",
    "    w = kernel.shape[1]\n",
    "    h = kernel.shape[0]\n",
    "    start = 0  # for horizontal opers\n",
    "    end = w    \n",
    "    slice_start = 0  # for vertical opers\n",
    "    slice_end = h\n",
    "#     print(slice_end)\n",
    "    conv = []\n",
    "    horizontal_steps = get_horizontal(inp_mat,kernel)\n",
    "    vertical_steps = get_vertical(inp_mat,kernel) \n",
    "    for j in range(vertical_steps):\n",
    "#         print(j)\n",
    "        \n",
    "#         print(slice_start,slice_end)\n",
    "        slice_ =  inp_mat[slice_start:slice_end]   # here if we change the 2, we are changing vertical slices (row-wise)\n",
    "        for i in range(horizontal_steps): # to get the range we can use the expected output shape of the result.\n",
    "            mat = np.array([k[start:end] for k in slice_])\n",
    "#             print(mat.shape)\n",
    "            conv.append(matmul(mat,kernel))\n",
    "            #increment start and end by stride size: for now it has to be 1, \n",
    "            start += horizontal_stride\n",
    "            end += horizontal_stride\n",
    "#             print(i)\n",
    "\n",
    "        # THE BELOW 4 lines come by debugging and printing errors and understanding all the shapes\n",
    "        start = 0  \n",
    "        end = w \n",
    "        slice_start += vertical_stride\n",
    "        slice_end += vertical_stride\n",
    "        \n",
    "       \n",
    "    return conv"
   ]
  },
  {
   "cell_type": "code",
   "execution_count": 133,
   "metadata": {},
   "outputs": [],
   "source": [
    "# note that conv is a list of all operations performed sequentially. The next step must be- rearraging this list\n",
    "# into a correct np.ndarray. Which is fairly easy!.\n",
    "# CONV OPERATION DONE. LEt me allso add the vertical stride option -> look at the changes\n",
    "# still little work needs to be done to make stride dynamic. \n",
    "# HINT- Just change vertical_steps and horizontal_steps options\n",
    "# Also , test with different kernel sizes. If there are errors debug and you will understand the whole concept.\n"
   ]
  },
  {
   "cell_type": "code",
   "execution_count": 134,
   "metadata": {},
   "outputs": [
    {
     "data": {
      "text/plain": [
       "[array([[ 3.,  3.],\n",
       "        [11., 11.]]), array([[ 5.,  5.],\n",
       "        [13., 13.]]), array([[ 7.,  7.],\n",
       "        [15., 15.]]), array([[ 9.,  9.],\n",
       "        [14., 14.]]), array([[11., 11.],\n",
       "        [19., 19.]]), array([[13., 13.],\n",
       "        [21., 21.]]), array([[15., 15.],\n",
       "        [23., 23.]]), array([[14., 14.],\n",
       "        [19., 19.]]), array([[19., 19.],\n",
       "        [27., 27.]]), array([[21., 21.],\n",
       "        [29., 29.]]), array([[23., 23.],\n",
       "        [31., 31.]]), array([[19., 19.],\n",
       "        [24., 24.]])]"
      ]
     },
     "execution_count": 134,
     "metadata": {},
     "output_type": "execute_result"
    }
   ],
   "source": [
    "conv_operation(inp_mat,kernel)"
   ]
  },
  {
   "cell_type": "code",
   "execution_count": 136,
   "metadata": {},
   "outputs": [],
   "source": [
    "# clean version -> \n",
    "def matmul(a,b):\n",
    "    \"\"\"\n",
    "    Returns the matrix multiplication of inputs a and b. \n",
    "    Idea - I will use this for each conv step-  kernel*slice_from_matrix \n",
    "    \"\"\"    \n",
    "    return np.matmul(a,b)\n",
    "\n",
    "# after drqaing the conv operation on paper,\n",
    "# i understood a pattern in number of horizontal steps allowed based on kernel width and input mat size\n",
    "# the formula can be easily written as -\n",
    "\n",
    "def get_horizontal(inp_mat,kernel):\n",
    "    a = len(inp_mat[0])   # width of the input matrix\n",
    "    b = kernel.shape[1]\n",
    "    horizontal_steps = (a-b)+1  # turns out adding 1 gives the right number!Eureka :D\n",
    "    return horizontal_steps\n",
    "\n",
    "def get_vertical(inp_mat,kernel):\n",
    "    a = len(inp_mat)\n",
    "    b = kernel.shape[0]\n",
    "    vertical_steps = (a-b)+1\n",
    "    return vertical_steps\n",
    "\n",
    "\n",
    "\n",
    "def conv_operation(inp_mat, kernel, horizontal_stride=1,vertical_stride=1):\n",
    "    w = kernel.shape[1]\n",
    "    h = kernel.shape[0]\n",
    "    start = 0  # for horizontal opers\n",
    "    end = w    \n",
    "    slice_start = 0  # for vertical opers\n",
    "    slice_end = h\n",
    "    conv = []\n",
    "    horizontal_steps = get_horizontal(inp_mat,kernel)\n",
    "    vertical_steps = get_vertical(inp_mat,kernel) \n",
    "    for j in range(vertical_steps):\n",
    "        slice_ =  inp_mat[slice_start:slice_end]   \n",
    "        for i in range(horizontal_steps):\n",
    "            mat = np.array([k[start:end] for k in slice_])\n",
    "            conv.append(matmul(mat,kernel))\n",
    "            start += horizontal_stride\n",
    "            end += horizontal_stride\n",
    "        start = 0  \n",
    "        end = w \n",
    "        slice_start += vertical_stride\n",
    "        slice_end += vertical_stride\n",
    "        \n",
    "       \n",
    "    return conv"
   ]
  },
  {
   "cell_type": "code",
   "execution_count": 141,
   "metadata": {},
   "outputs": [
    {
     "data": {
      "text/plain": [
       "[array([[[ 3.,  3.,  3.],\n",
       "         [11., 11., 11.]],\n",
       " \n",
       "        [[ 3.,  3.,  3.],\n",
       "         [11., 11., 11.]]]), array([[[ 5.,  5.,  5.],\n",
       "         [13., 13., 13.]],\n",
       " \n",
       "        [[ 5.,  5.,  5.],\n",
       "         [13., 13., 13.]]]), array([[[ 7.,  7.,  7.],\n",
       "         [15., 15., 15.]],\n",
       " \n",
       "        [[ 7.,  7.,  7.],\n",
       "         [15., 15., 15.]]]), array([[[ 9.,  9.,  9.],\n",
       "         [14., 14., 14.]],\n",
       " \n",
       "        [[ 9.,  9.,  9.],\n",
       "         [14., 14., 14.]]]), array([[[11., 11., 11.],\n",
       "         [19., 19., 19.]],\n",
       " \n",
       "        [[11., 11., 11.],\n",
       "         [19., 19., 19.]]]), array([[[13., 13., 13.],\n",
       "         [21., 21., 21.]],\n",
       " \n",
       "        [[13., 13., 13.],\n",
       "         [21., 21., 21.]]]), array([[[15., 15., 15.],\n",
       "         [23., 23., 23.]],\n",
       " \n",
       "        [[15., 15., 15.],\n",
       "         [23., 23., 23.]]]), array([[[14., 14., 14.],\n",
       "         [19., 19., 19.]],\n",
       " \n",
       "        [[14., 14., 14.],\n",
       "         [19., 19., 19.]]]), array([[[19., 19., 19.],\n",
       "         [27., 27., 27.]],\n",
       " \n",
       "        [[19., 19., 19.],\n",
       "         [27., 27., 27.]]]), array([[[21., 21., 21.],\n",
       "         [29., 29., 29.]],\n",
       " \n",
       "        [[21., 21., 21.],\n",
       "         [29., 29., 29.]]]), array([[[23., 23., 23.],\n",
       "         [31., 31., 31.]],\n",
       " \n",
       "        [[23., 23., 23.],\n",
       "         [31., 31., 31.]]]), array([[[19., 19., 19.],\n",
       "         [24., 24., 24.]],\n",
       " \n",
       "        [[19., 19., 19.],\n",
       "         [24., 24., 24.]]])]"
      ]
     },
     "execution_count": 141,
     "metadata": {},
     "output_type": "execute_result"
    }
   ],
   "source": [
    "# Sample input\n",
    "inp_mat = [[1., 2., 3., 4.,5],\n",
    "       [5., 6., 7., 8.,6], \n",
    "       [9., 10., 11., 12.,7],\n",
    "       [13., 14., 15., 16.,8]]     # i will number then so that when we select we can see positions correctly\n",
    "                                 # Basicially here I am trying to figure out how to slice numpy array dynamically!\n",
    "kernel = np.ones((2,2,3))\n",
    "\n",
    "conv_operation(inp_mat,kernel)"
   ]
  },
  {
   "cell_type": "code",
   "execution_count": 142,
   "metadata": {},
   "outputs": [
    {
     "data": {
      "text/plain": [
       "[array([[ 3.,  3.],\n",
       "        [11., 11.]]), array([[ 5.,  5.],\n",
       "        [13., 13.]]), array([[ 7.,  7.],\n",
       "        [15., 15.]]), array([[11., 11.],\n",
       "        [19., 19.]]), array([[13., 13.],\n",
       "        [21., 21.]]), array([[15., 15.],\n",
       "        [23., 23.]]), array([[19., 19.],\n",
       "        [27., 27.]]), array([[21., 21.],\n",
       "        [29., 29.]]), array([[23., 23.],\n",
       "        [31., 31.]])]"
      ]
     },
     "execution_count": 142,
     "metadata": {},
     "output_type": "execute_result"
    }
   ],
   "source": [
    "# Sample input\n",
    "inp_mat = [[1., 2., 3., 4.,],\n",
    "       [5., 6., 7., 8.,], \n",
    "       [9., 10., 11., 12.,],\n",
    "       [13., 14., 15., 16.,]]     # i will number then so that when we select we can see positions correctly\n",
    "                                 # Basicially here I am trying to figure out how to slice numpy array dynamically!\n",
    "kernel = np.ones((2,2,))\n",
    "\n",
    "conv_operation(inp_mat,kernel)"
   ]
  },
  {
   "cell_type": "code",
   "execution_count": null,
   "metadata": {},
   "outputs": [],
   "source": []
  }
 ],
 "metadata": {
  "kernelspec": {
   "display_name": "Python 3",
   "language": "python",
   "name": "python3"
  },
  "language_info": {
   "codemirror_mode": {
    "name": "ipython",
    "version": 3
   },
   "file_extension": ".py",
   "mimetype": "text/x-python",
   "name": "python",
   "nbconvert_exporter": "python",
   "pygments_lexer": "ipython3",
   "version": "3.7.6"
  }
 },
 "nbformat": 4,
 "nbformat_minor": 4
}
